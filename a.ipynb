{
 "cells": [
  {
   "cell_type": "markdown",
   "metadata": {},
   "source": [
    "adatb jegyzet a rendszerelmelet I-II fuzetben hatulrol\n",
    "adatb szobeli vizsga osszes a rendszerelmelet II-ben!!!"
   ]
  }
 ],
 "metadata": {
  "language_info": {
   "name": "python"
  },
  "orig_nbformat": 4
 },
 "nbformat": 4,
 "nbformat_minor": 2
}
